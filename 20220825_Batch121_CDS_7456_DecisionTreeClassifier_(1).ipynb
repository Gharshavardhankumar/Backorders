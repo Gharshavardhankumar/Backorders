{
  "cells": [
    {
      "cell_type": "markdown",
      "metadata": {
        "id": "view-in-github",
        "colab_type": "text"
      },
      "source": [
        "<a href=\"https://colab.research.google.com/github/Gharshavardhankumar/Predict-Product-Backorders--Classification/blob/main/20220825_Batch121_CDS_7456_DecisionTreeClassifier_(1).ipynb\" target=\"_parent\"><img src=\"https://colab.research.google.com/assets/colab-badge.svg\" alt=\"Open In Colab\"/></a>"
      ]
    },
    {
      "cell_type": "markdown",
      "metadata": {
        "id": "d0a_FWGzJPPn"
      },
      "source": [
        "# Loading the required libraries"
      ]
    },
    {
      "cell_type": "code",
      "execution_count": null,
      "metadata": {
        "scrolled": true,
        "id": "cFveQz6IJPPq"
      },
      "outputs": [],
      "source": [
        "import pandas as pd\n",
        "import numpy as np\n",
        "\n",
        "from sklearn.model_selection import train_test_split, GridSearchCV\n",
        "from sklearn.tree import DecisionTreeClassifier, export_graphviz\n",
        "from sklearn.metrics import confusion_matrix, accuracy_score, recall_score, precision_score\n",
        "\n",
        "from imblearn.over_sampling import SMOTE\n",
        "\n",
        "import graphviz"
      ]
    },
    {
      "cell_type": "markdown",
      "metadata": {
        "id": "BBxHZuwPJPPr"
      },
      "source": [
        "# Identify Right Error Metrics\n",
        "\n",
        "    Based on the business have to identify the right error metrics."
      ]
    },
    {
      "cell_type": "markdown",
      "metadata": {
        "id": "nYqv1GNLJPPr"
      },
      "source": [
        "## Function to calculate required metrics"
      ]
    },
    {
      "cell_type": "code",
      "execution_count": null,
      "metadata": {
        "id": "FPIW2XJWJPPs"
      },
      "outputs": [],
      "source": [
        "def evaluate_model(act, pred):\n",
        "    print(\"Confusion Matrix \\n\", confusion_matrix(act, pred))\n",
        "    print(\"Accurcay : \", accuracy_score(act, pred))\n",
        "    print(\"Recall   : \", recall_score(act, pred))\n",
        "    print(\"Precision: \", precision_score(act, pred))    "
      ]
    },
    {
      "cell_type": "markdown",
      "metadata": {
        "id": "lbnrKk9aJPPs"
      },
      "source": [
        "# Loading the data"
      ]
    },
    {
      "cell_type": "code",
      "execution_count": null,
      "metadata": {
        "id": "q1cd8ujRJPPt"
      },
      "outputs": [],
      "source": [
        "data = pd.read_csv(\"/home/datasets/lab/DT_BackOrders.csv\", header=0)"
      ]
    },
    {
      "cell_type": "markdown",
      "metadata": {
        "id": "MCH4hSuaJPPt"
      },
      "source": [
        "# Understand the Data - - Exploratory Data Analysis (EDA)"
      ]
    },
    {
      "cell_type": "markdown",
      "metadata": {
        "id": "I71V_G6QJPPu"
      },
      "source": [
        "## Number row and columns"
      ]
    },
    {
      "cell_type": "code",
      "execution_count": null,
      "metadata": {
        "id": "wbjIjHSeJPPu",
        "outputId": "44736a09-d3d9-4224-fc3a-5b1f331c37f4"
      },
      "outputs": [
        {
          "data": {
            "text/plain": [
              "(61589, 23)"
            ]
          },
          "execution_count": 4,
          "metadata": {},
          "output_type": "execute_result"
        }
      ],
      "source": [
        "data.shape"
      ]
    },
    {
      "cell_type": "markdown",
      "metadata": {
        "id": "xBCZ00dsJPPv"
      },
      "source": [
        "## First and last 5 records"
      ]
    },
    {
      "cell_type": "code",
      "execution_count": null,
      "metadata": {
        "id": "AV2t7O_LJPPv",
        "outputId": "ad58704c-5faa-4205-b961-adc1318cad65"
      },
      "outputs": [
        {
          "data": {
            "text/html": [
              "<div>\n",
              "<style scoped>\n",
              "    .dataframe tbody tr th:only-of-type {\n",
              "        vertical-align: middle;\n",
              "    }\n",
              "\n",
              "    .dataframe tbody tr th {\n",
              "        vertical-align: top;\n",
              "    }\n",
              "\n",
              "    .dataframe thead th {\n",
              "        text-align: right;\n",
              "    }\n",
              "</style>\n",
              "<table border=\"1\" class=\"dataframe\">\n",
              "  <thead>\n",
              "    <tr style=\"text-align: right;\">\n",
              "      <th></th>\n",
              "      <th>sku</th>\n",
              "      <th>national_inv</th>\n",
              "      <th>lead_time</th>\n",
              "      <th>in_transit_qty</th>\n",
              "      <th>forecast_3_month</th>\n",
              "      <th>forecast_6_month</th>\n",
              "      <th>forecast_9_month</th>\n",
              "      <th>sales_1_month</th>\n",
              "      <th>sales_3_month</th>\n",
              "      <th>sales_6_month</th>\n",
              "      <th>...</th>\n",
              "      <th>pieces_past_due</th>\n",
              "      <th>perf_6_month_avg</th>\n",
              "      <th>perf_12_month_avg</th>\n",
              "      <th>local_bo_qty</th>\n",
              "      <th>deck_risk</th>\n",
              "      <th>oe_constraint</th>\n",
              "      <th>ppap_risk</th>\n",
              "      <th>stop_auto_buy</th>\n",
              "      <th>rev_stop</th>\n",
              "      <th>went_on_backorder</th>\n",
              "    </tr>\n",
              "  </thead>\n",
              "  <tbody>\n",
              "    <tr>\n",
              "      <th>0</th>\n",
              "      <td>1888279</td>\n",
              "      <td>117</td>\n",
              "      <td>NaN</td>\n",
              "      <td>0</td>\n",
              "      <td>0</td>\n",
              "      <td>0</td>\n",
              "      <td>0</td>\n",
              "      <td>0</td>\n",
              "      <td>0</td>\n",
              "      <td>15</td>\n",
              "      <td>...</td>\n",
              "      <td>0</td>\n",
              "      <td>-99.00</td>\n",
              "      <td>-99.00</td>\n",
              "      <td>0</td>\n",
              "      <td>No</td>\n",
              "      <td>No</td>\n",
              "      <td>Yes</td>\n",
              "      <td>Yes</td>\n",
              "      <td>No</td>\n",
              "      <td>No</td>\n",
              "    </tr>\n",
              "    <tr>\n",
              "      <th>1</th>\n",
              "      <td>1870557</td>\n",
              "      <td>7</td>\n",
              "      <td>2.0</td>\n",
              "      <td>0</td>\n",
              "      <td>0</td>\n",
              "      <td>0</td>\n",
              "      <td>0</td>\n",
              "      <td>0</td>\n",
              "      <td>0</td>\n",
              "      <td>0</td>\n",
              "      <td>...</td>\n",
              "      <td>0</td>\n",
              "      <td>0.50</td>\n",
              "      <td>0.28</td>\n",
              "      <td>0</td>\n",
              "      <td>Yes</td>\n",
              "      <td>No</td>\n",
              "      <td>No</td>\n",
              "      <td>Yes</td>\n",
              "      <td>No</td>\n",
              "      <td>No</td>\n",
              "    </tr>\n",
              "    <tr>\n",
              "      <th>2</th>\n",
              "      <td>1475481</td>\n",
              "      <td>258</td>\n",
              "      <td>15.0</td>\n",
              "      <td>10</td>\n",
              "      <td>10</td>\n",
              "      <td>77</td>\n",
              "      <td>184</td>\n",
              "      <td>46</td>\n",
              "      <td>132</td>\n",
              "      <td>256</td>\n",
              "      <td>...</td>\n",
              "      <td>0</td>\n",
              "      <td>0.54</td>\n",
              "      <td>0.70</td>\n",
              "      <td>0</td>\n",
              "      <td>No</td>\n",
              "      <td>No</td>\n",
              "      <td>No</td>\n",
              "      <td>Yes</td>\n",
              "      <td>No</td>\n",
              "      <td>No</td>\n",
              "    </tr>\n",
              "    <tr>\n",
              "      <th>3</th>\n",
              "      <td>1758220</td>\n",
              "      <td>46</td>\n",
              "      <td>2.0</td>\n",
              "      <td>0</td>\n",
              "      <td>0</td>\n",
              "      <td>0</td>\n",
              "      <td>0</td>\n",
              "      <td>1</td>\n",
              "      <td>2</td>\n",
              "      <td>6</td>\n",
              "      <td>...</td>\n",
              "      <td>0</td>\n",
              "      <td>0.75</td>\n",
              "      <td>0.90</td>\n",
              "      <td>0</td>\n",
              "      <td>Yes</td>\n",
              "      <td>No</td>\n",
              "      <td>No</td>\n",
              "      <td>Yes</td>\n",
              "      <td>No</td>\n",
              "      <td>No</td>\n",
              "    </tr>\n",
              "    <tr>\n",
              "      <th>4</th>\n",
              "      <td>1360312</td>\n",
              "      <td>2</td>\n",
              "      <td>2.0</td>\n",
              "      <td>0</td>\n",
              "      <td>4</td>\n",
              "      <td>6</td>\n",
              "      <td>10</td>\n",
              "      <td>2</td>\n",
              "      <td>2</td>\n",
              "      <td>5</td>\n",
              "      <td>...</td>\n",
              "      <td>0</td>\n",
              "      <td>0.97</td>\n",
              "      <td>0.92</td>\n",
              "      <td>0</td>\n",
              "      <td>No</td>\n",
              "      <td>No</td>\n",
              "      <td>No</td>\n",
              "      <td>Yes</td>\n",
              "      <td>No</td>\n",
              "      <td>No</td>\n",
              "    </tr>\n",
              "  </tbody>\n",
              "</table>\n",
              "<p>5 rows × 23 columns</p>\n",
              "</div>"
            ],
            "text/plain": [
              "       sku  national_inv  lead_time  in_transit_qty  forecast_3_month  \\\n",
              "0  1888279           117        NaN               0                 0   \n",
              "1  1870557             7        2.0               0                 0   \n",
              "2  1475481           258       15.0              10                10   \n",
              "3  1758220            46        2.0               0                 0   \n",
              "4  1360312             2        2.0               0                 4   \n",
              "\n",
              "   forecast_6_month  forecast_9_month  sales_1_month  sales_3_month  \\\n",
              "0                 0                 0              0              0   \n",
              "1                 0                 0              0              0   \n",
              "2                77               184             46            132   \n",
              "3                 0                 0              1              2   \n",
              "4                 6                10              2              2   \n",
              "\n",
              "   sales_6_month  ...  pieces_past_due  perf_6_month_avg perf_12_month_avg  \\\n",
              "0             15  ...                0            -99.00            -99.00   \n",
              "1              0  ...                0              0.50              0.28   \n",
              "2            256  ...                0              0.54              0.70   \n",
              "3              6  ...                0              0.75              0.90   \n",
              "4              5  ...                0              0.97              0.92   \n",
              "\n",
              "   local_bo_qty  deck_risk  oe_constraint  ppap_risk stop_auto_buy rev_stop  \\\n",
              "0             0         No             No        Yes           Yes       No   \n",
              "1             0        Yes             No         No           Yes       No   \n",
              "2             0         No             No         No           Yes       No   \n",
              "3             0        Yes             No         No           Yes       No   \n",
              "4             0         No             No         No           Yes       No   \n",
              "\n",
              "  went_on_backorder  \n",
              "0                No  \n",
              "1                No  \n",
              "2                No  \n",
              "3                No  \n",
              "4                No  \n",
              "\n",
              "[5 rows x 23 columns]"
            ]
          },
          "execution_count": 5,
          "metadata": {},
          "output_type": "execute_result"
        }
      ],
      "source": [
        "data.head()"
      ]
    },
    {
      "cell_type": "code",
      "execution_count": null,
      "metadata": {
        "id": "9A-go0dAJPPw",
        "outputId": "2844adb5-d480-4b0c-b018-ee91f0b4c510"
      },
      "outputs": [
        {
          "data": {
            "text/html": [
              "<div>\n",
              "<style scoped>\n",
              "    .dataframe tbody tr th:only-of-type {\n",
              "        vertical-align: middle;\n",
              "    }\n",
              "\n",
              "    .dataframe tbody tr th {\n",
              "        vertical-align: top;\n",
              "    }\n",
              "\n",
              "    .dataframe thead th {\n",
              "        text-align: right;\n",
              "    }\n",
              "</style>\n",
              "<table border=\"1\" class=\"dataframe\">\n",
              "  <thead>\n",
              "    <tr style=\"text-align: right;\">\n",
              "      <th></th>\n",
              "      <th>sku</th>\n",
              "      <th>national_inv</th>\n",
              "      <th>lead_time</th>\n",
              "      <th>in_transit_qty</th>\n",
              "      <th>forecast_3_month</th>\n",
              "      <th>forecast_6_month</th>\n",
              "      <th>forecast_9_month</th>\n",
              "      <th>sales_1_month</th>\n",
              "      <th>sales_3_month</th>\n",
              "      <th>sales_6_month</th>\n",
              "      <th>...</th>\n",
              "      <th>pieces_past_due</th>\n",
              "      <th>perf_6_month_avg</th>\n",
              "      <th>perf_12_month_avg</th>\n",
              "      <th>local_bo_qty</th>\n",
              "      <th>deck_risk</th>\n",
              "      <th>oe_constraint</th>\n",
              "      <th>ppap_risk</th>\n",
              "      <th>stop_auto_buy</th>\n",
              "      <th>rev_stop</th>\n",
              "      <th>went_on_backorder</th>\n",
              "    </tr>\n",
              "  </thead>\n",
              "  <tbody>\n",
              "    <tr>\n",
              "      <th>61584</th>\n",
              "      <td>1397275</td>\n",
              "      <td>6</td>\n",
              "      <td>8.0</td>\n",
              "      <td>0</td>\n",
              "      <td>24</td>\n",
              "      <td>24</td>\n",
              "      <td>24</td>\n",
              "      <td>0</td>\n",
              "      <td>7</td>\n",
              "      <td>9</td>\n",
              "      <td>...</td>\n",
              "      <td>0</td>\n",
              "      <td>0.98</td>\n",
              "      <td>0.98</td>\n",
              "      <td>0</td>\n",
              "      <td>No</td>\n",
              "      <td>No</td>\n",
              "      <td>No</td>\n",
              "      <td>Yes</td>\n",
              "      <td>No</td>\n",
              "      <td>No</td>\n",
              "    </tr>\n",
              "    <tr>\n",
              "      <th>61585</th>\n",
              "      <td>3072139</td>\n",
              "      <td>130</td>\n",
              "      <td>2.0</td>\n",
              "      <td>0</td>\n",
              "      <td>40</td>\n",
              "      <td>80</td>\n",
              "      <td>140</td>\n",
              "      <td>18</td>\n",
              "      <td>108</td>\n",
              "      <td>230</td>\n",
              "      <td>...</td>\n",
              "      <td>0</td>\n",
              "      <td>0.51</td>\n",
              "      <td>0.28</td>\n",
              "      <td>0</td>\n",
              "      <td>No</td>\n",
              "      <td>No</td>\n",
              "      <td>No</td>\n",
              "      <td>Yes</td>\n",
              "      <td>No</td>\n",
              "      <td>No</td>\n",
              "    </tr>\n",
              "    <tr>\n",
              "      <th>61586</th>\n",
              "      <td>1909363</td>\n",
              "      <td>135</td>\n",
              "      <td>9.0</td>\n",
              "      <td>0</td>\n",
              "      <td>0</td>\n",
              "      <td>0</td>\n",
              "      <td>0</td>\n",
              "      <td>10</td>\n",
              "      <td>40</td>\n",
              "      <td>65</td>\n",
              "      <td>...</td>\n",
              "      <td>0</td>\n",
              "      <td>1.00</td>\n",
              "      <td>0.99</td>\n",
              "      <td>0</td>\n",
              "      <td>No</td>\n",
              "      <td>No</td>\n",
              "      <td>Yes</td>\n",
              "      <td>Yes</td>\n",
              "      <td>No</td>\n",
              "      <td>No</td>\n",
              "    </tr>\n",
              "    <tr>\n",
              "      <th>61587</th>\n",
              "      <td>1845783</td>\n",
              "      <td>63</td>\n",
              "      <td>NaN</td>\n",
              "      <td>0</td>\n",
              "      <td>0</td>\n",
              "      <td>0</td>\n",
              "      <td>0</td>\n",
              "      <td>452</td>\n",
              "      <td>1715</td>\n",
              "      <td>3425</td>\n",
              "      <td>...</td>\n",
              "      <td>0</td>\n",
              "      <td>-99.00</td>\n",
              "      <td>-99.00</td>\n",
              "      <td>1</td>\n",
              "      <td>No</td>\n",
              "      <td>No</td>\n",
              "      <td>No</td>\n",
              "      <td>No</td>\n",
              "      <td>No</td>\n",
              "      <td>Yes</td>\n",
              "    </tr>\n",
              "    <tr>\n",
              "      <th>61588</th>\n",
              "      <td>1200539</td>\n",
              "      <td>0</td>\n",
              "      <td>2.0</td>\n",
              "      <td>0</td>\n",
              "      <td>8</td>\n",
              "      <td>8</td>\n",
              "      <td>8</td>\n",
              "      <td>0</td>\n",
              "      <td>1</td>\n",
              "      <td>1</td>\n",
              "      <td>...</td>\n",
              "      <td>0</td>\n",
              "      <td>0.79</td>\n",
              "      <td>0.78</td>\n",
              "      <td>0</td>\n",
              "      <td>Yes</td>\n",
              "      <td>No</td>\n",
              "      <td>No</td>\n",
              "      <td>Yes</td>\n",
              "      <td>No</td>\n",
              "      <td>Yes</td>\n",
              "    </tr>\n",
              "  </tbody>\n",
              "</table>\n",
              "<p>5 rows × 23 columns</p>\n",
              "</div>"
            ],
            "text/plain": [
              "           sku  national_inv  lead_time  in_transit_qty  forecast_3_month  \\\n",
              "61584  1397275             6        8.0               0                24   \n",
              "61585  3072139           130        2.0               0                40   \n",
              "61586  1909363           135        9.0               0                 0   \n",
              "61587  1845783            63        NaN               0                 0   \n",
              "61588  1200539             0        2.0               0                 8   \n",
              "\n",
              "       forecast_6_month  forecast_9_month  sales_1_month  sales_3_month  \\\n",
              "61584                24                24              0              7   \n",
              "61585                80               140             18            108   \n",
              "61586                 0                 0             10             40   \n",
              "61587                 0                 0            452           1715   \n",
              "61588                 8                 8              0              1   \n",
              "\n",
              "       sales_6_month  ...  pieces_past_due  perf_6_month_avg  \\\n",
              "61584              9  ...                0              0.98   \n",
              "61585            230  ...                0              0.51   \n",
              "61586             65  ...                0              1.00   \n",
              "61587           3425  ...                0            -99.00   \n",
              "61588              1  ...                0              0.79   \n",
              "\n",
              "      perf_12_month_avg  local_bo_qty  deck_risk  oe_constraint  ppap_risk  \\\n",
              "61584              0.98             0         No             No         No   \n",
              "61585              0.28             0         No             No         No   \n",
              "61586              0.99             0         No             No        Yes   \n",
              "61587            -99.00             1         No             No         No   \n",
              "61588              0.78             0        Yes             No         No   \n",
              "\n",
              "      stop_auto_buy rev_stop went_on_backorder  \n",
              "61584           Yes       No                No  \n",
              "61585           Yes       No                No  \n",
              "61586           Yes       No                No  \n",
              "61587            No       No               Yes  \n",
              "61588           Yes       No               Yes  \n",
              "\n",
              "[5 rows x 23 columns]"
            ]
          },
          "execution_count": 6,
          "metadata": {},
          "output_type": "execute_result"
        }
      ],
      "source": [
        "data.tail()"
      ]
    },
    {
      "cell_type": "markdown",
      "metadata": {
        "id": "C65ZfLx2JPPw"
      },
      "source": [
        "## Statistic summary \n",
        "    Using describe function"
      ]
    },
    {
      "cell_type": "code",
      "execution_count": null,
      "metadata": {
        "scrolled": true,
        "id": "bGWjlAc6JPPx",
        "outputId": "50b894c8-bc0a-4fdf-c3d9-944e6d1186a8"
      },
      "outputs": [
        {
          "data": {
            "text/html": [
              "<div>\n",
              "<style scoped>\n",
              "    .dataframe tbody tr th:only-of-type {\n",
              "        vertical-align: middle;\n",
              "    }\n",
              "\n",
              "    .dataframe tbody tr th {\n",
              "        vertical-align: top;\n",
              "    }\n",
              "\n",
              "    .dataframe thead th {\n",
              "        text-align: right;\n",
              "    }\n",
              "</style>\n",
              "<table border=\"1\" class=\"dataframe\">\n",
              "  <thead>\n",
              "    <tr style=\"text-align: right;\">\n",
              "      <th></th>\n",
              "      <th>sku</th>\n",
              "      <th>national_inv</th>\n",
              "      <th>lead_time</th>\n",
              "      <th>in_transit_qty</th>\n",
              "      <th>forecast_3_month</th>\n",
              "      <th>forecast_6_month</th>\n",
              "      <th>forecast_9_month</th>\n",
              "      <th>sales_1_month</th>\n",
              "      <th>sales_3_month</th>\n",
              "      <th>sales_6_month</th>\n",
              "      <th>...</th>\n",
              "      <th>pieces_past_due</th>\n",
              "      <th>perf_6_month_avg</th>\n",
              "      <th>perf_12_month_avg</th>\n",
              "      <th>local_bo_qty</th>\n",
              "      <th>deck_risk</th>\n",
              "      <th>oe_constraint</th>\n",
              "      <th>ppap_risk</th>\n",
              "      <th>stop_auto_buy</th>\n",
              "      <th>rev_stop</th>\n",
              "      <th>went_on_backorder</th>\n",
              "    </tr>\n",
              "  </thead>\n",
              "  <tbody>\n",
              "    <tr>\n",
              "      <th>count</th>\n",
              "      <td>6.158900e+04</td>\n",
              "      <td>61589.000000</td>\n",
              "      <td>58186.000000</td>\n",
              "      <td>61589.000000</td>\n",
              "      <td>6.158900e+04</td>\n",
              "      <td>6.158900e+04</td>\n",
              "      <td>6.158900e+04</td>\n",
              "      <td>61589.000000</td>\n",
              "      <td>61589.000000</td>\n",
              "      <td>6.158900e+04</td>\n",
              "      <td>...</td>\n",
              "      <td>61589.000000</td>\n",
              "      <td>61589.000000</td>\n",
              "      <td>61589.000000</td>\n",
              "      <td>61589.000000</td>\n",
              "      <td>61589</td>\n",
              "      <td>61589</td>\n",
              "      <td>61589</td>\n",
              "      <td>61589</td>\n",
              "      <td>61589</td>\n",
              "      <td>61589</td>\n",
              "    </tr>\n",
              "    <tr>\n",
              "      <th>unique</th>\n",
              "      <td>NaN</td>\n",
              "      <td>NaN</td>\n",
              "      <td>NaN</td>\n",
              "      <td>NaN</td>\n",
              "      <td>NaN</td>\n",
              "      <td>NaN</td>\n",
              "      <td>NaN</td>\n",
              "      <td>NaN</td>\n",
              "      <td>NaN</td>\n",
              "      <td>NaN</td>\n",
              "      <td>...</td>\n",
              "      <td>NaN</td>\n",
              "      <td>NaN</td>\n",
              "      <td>NaN</td>\n",
              "      <td>NaN</td>\n",
              "      <td>2</td>\n",
              "      <td>2</td>\n",
              "      <td>2</td>\n",
              "      <td>2</td>\n",
              "      <td>2</td>\n",
              "      <td>2</td>\n",
              "    </tr>\n",
              "    <tr>\n",
              "      <th>top</th>\n",
              "      <td>NaN</td>\n",
              "      <td>NaN</td>\n",
              "      <td>NaN</td>\n",
              "      <td>NaN</td>\n",
              "      <td>NaN</td>\n",
              "      <td>NaN</td>\n",
              "      <td>NaN</td>\n",
              "      <td>NaN</td>\n",
              "      <td>NaN</td>\n",
              "      <td>NaN</td>\n",
              "      <td>...</td>\n",
              "      <td>NaN</td>\n",
              "      <td>NaN</td>\n",
              "      <td>NaN</td>\n",
              "      <td>NaN</td>\n",
              "      <td>No</td>\n",
              "      <td>No</td>\n",
              "      <td>No</td>\n",
              "      <td>Yes</td>\n",
              "      <td>No</td>\n",
              "      <td>No</td>\n",
              "    </tr>\n",
              "    <tr>\n",
              "      <th>freq</th>\n",
              "      <td>NaN</td>\n",
              "      <td>NaN</td>\n",
              "      <td>NaN</td>\n",
              "      <td>NaN</td>\n",
              "      <td>NaN</td>\n",
              "      <td>NaN</td>\n",
              "      <td>NaN</td>\n",
              "      <td>NaN</td>\n",
              "      <td>NaN</td>\n",
              "      <td>NaN</td>\n",
              "      <td>...</td>\n",
              "      <td>NaN</td>\n",
              "      <td>NaN</td>\n",
              "      <td>NaN</td>\n",
              "      <td>NaN</td>\n",
              "      <td>48145</td>\n",
              "      <td>61577</td>\n",
              "      <td>53792</td>\n",
              "      <td>59303</td>\n",
              "      <td>61569</td>\n",
              "      <td>50296</td>\n",
              "    </tr>\n",
              "    <tr>\n",
              "      <th>mean</th>\n",
              "      <td>2.037188e+06</td>\n",
              "      <td>287.721882</td>\n",
              "      <td>7.559619</td>\n",
              "      <td>30.192843</td>\n",
              "      <td>1.692728e+02</td>\n",
              "      <td>3.150413e+02</td>\n",
              "      <td>4.535760e+02</td>\n",
              "      <td>44.742957</td>\n",
              "      <td>150.732631</td>\n",
              "      <td>2.835465e+02</td>\n",
              "      <td>...</td>\n",
              "      <td>1.605400</td>\n",
              "      <td>-6.264182</td>\n",
              "      <td>-5.863664</td>\n",
              "      <td>1.205361</td>\n",
              "      <td>NaN</td>\n",
              "      <td>NaN</td>\n",
              "      <td>NaN</td>\n",
              "      <td>NaN</td>\n",
              "      <td>NaN</td>\n",
              "      <td>NaN</td>\n",
              "    </tr>\n",
              "    <tr>\n",
              "      <th>std</th>\n",
              "      <td>6.564178e+05</td>\n",
              "      <td>4233.906931</td>\n",
              "      <td>6.498952</td>\n",
              "      <td>792.869253</td>\n",
              "      <td>5.286742e+03</td>\n",
              "      <td>9.774362e+03</td>\n",
              "      <td>1.420201e+04</td>\n",
              "      <td>1373.805831</td>\n",
              "      <td>5224.959649</td>\n",
              "      <td>8.872270e+03</td>\n",
              "      <td>...</td>\n",
              "      <td>42.309229</td>\n",
              "      <td>25.537906</td>\n",
              "      <td>24.844514</td>\n",
              "      <td>29.981155</td>\n",
              "      <td>NaN</td>\n",
              "      <td>NaN</td>\n",
              "      <td>NaN</td>\n",
              "      <td>NaN</td>\n",
              "      <td>NaN</td>\n",
              "      <td>NaN</td>\n",
              "    </tr>\n",
              "    <tr>\n",
              "      <th>min</th>\n",
              "      <td>1.068628e+06</td>\n",
              "      <td>-2999.000000</td>\n",
              "      <td>0.000000</td>\n",
              "      <td>0.000000</td>\n",
              "      <td>0.000000e+00</td>\n",
              "      <td>0.000000e+00</td>\n",
              "      <td>0.000000e+00</td>\n",
              "      <td>0.000000</td>\n",
              "      <td>0.000000</td>\n",
              "      <td>0.000000e+00</td>\n",
              "      <td>...</td>\n",
              "      <td>0.000000</td>\n",
              "      <td>-99.000000</td>\n",
              "      <td>-99.000000</td>\n",
              "      <td>0.000000</td>\n",
              "      <td>NaN</td>\n",
              "      <td>NaN</td>\n",
              "      <td>NaN</td>\n",
              "      <td>NaN</td>\n",
              "      <td>NaN</td>\n",
              "      <td>NaN</td>\n",
              "    </tr>\n",
              "    <tr>\n",
              "      <th>25%</th>\n",
              "      <td>1.498574e+06</td>\n",
              "      <td>3.000000</td>\n",
              "      <td>4.000000</td>\n",
              "      <td>0.000000</td>\n",
              "      <td>0.000000e+00</td>\n",
              "      <td>0.000000e+00</td>\n",
              "      <td>0.000000e+00</td>\n",
              "      <td>0.000000</td>\n",
              "      <td>0.000000</td>\n",
              "      <td>0.000000e+00</td>\n",
              "      <td>...</td>\n",
              "      <td>0.000000</td>\n",
              "      <td>0.620000</td>\n",
              "      <td>0.640000</td>\n",
              "      <td>0.000000</td>\n",
              "      <td>NaN</td>\n",
              "      <td>NaN</td>\n",
              "      <td>NaN</td>\n",
              "      <td>NaN</td>\n",
              "      <td>NaN</td>\n",
              "      <td>NaN</td>\n",
              "    </tr>\n",
              "    <tr>\n",
              "      <th>50%</th>\n",
              "      <td>1.898033e+06</td>\n",
              "      <td>10.000000</td>\n",
              "      <td>8.000000</td>\n",
              "      <td>0.000000</td>\n",
              "      <td>0.000000e+00</td>\n",
              "      <td>0.000000e+00</td>\n",
              "      <td>0.000000e+00</td>\n",
              "      <td>0.000000</td>\n",
              "      <td>2.000000</td>\n",
              "      <td>4.000000e+00</td>\n",
              "      <td>...</td>\n",
              "      <td>0.000000</td>\n",
              "      <td>0.820000</td>\n",
              "      <td>0.800000</td>\n",
              "      <td>0.000000</td>\n",
              "      <td>NaN</td>\n",
              "      <td>NaN</td>\n",
              "      <td>NaN</td>\n",
              "      <td>NaN</td>\n",
              "      <td>NaN</td>\n",
              "      <td>NaN</td>\n",
              "    </tr>\n",
              "    <tr>\n",
              "      <th>75%</th>\n",
              "      <td>2.314826e+06</td>\n",
              "      <td>57.000000</td>\n",
              "      <td>8.000000</td>\n",
              "      <td>0.000000</td>\n",
              "      <td>1.200000e+01</td>\n",
              "      <td>2.500000e+01</td>\n",
              "      <td>3.600000e+01</td>\n",
              "      <td>6.000000</td>\n",
              "      <td>17.000000</td>\n",
              "      <td>3.400000e+01</td>\n",
              "      <td>...</td>\n",
              "      <td>0.000000</td>\n",
              "      <td>0.960000</td>\n",
              "      <td>0.950000</td>\n",
              "      <td>0.000000</td>\n",
              "      <td>NaN</td>\n",
              "      <td>NaN</td>\n",
              "      <td>NaN</td>\n",
              "      <td>NaN</td>\n",
              "      <td>NaN</td>\n",
              "      <td>NaN</td>\n",
              "    </tr>\n",
              "    <tr>\n",
              "      <th>max</th>\n",
              "      <td>3.284895e+06</td>\n",
              "      <td>673445.000000</td>\n",
              "      <td>52.000000</td>\n",
              "      <td>170976.000000</td>\n",
              "      <td>1.126656e+06</td>\n",
              "      <td>2.094336e+06</td>\n",
              "      <td>3.062016e+06</td>\n",
              "      <td>295197.000000</td>\n",
              "      <td>934593.000000</td>\n",
              "      <td>1.799099e+06</td>\n",
              "      <td>...</td>\n",
              "      <td>7392.000000</td>\n",
              "      <td>1.000000</td>\n",
              "      <td>1.000000</td>\n",
              "      <td>2999.000000</td>\n",
              "      <td>NaN</td>\n",
              "      <td>NaN</td>\n",
              "      <td>NaN</td>\n",
              "      <td>NaN</td>\n",
              "      <td>NaN</td>\n",
              "      <td>NaN</td>\n",
              "    </tr>\n",
              "  </tbody>\n",
              "</table>\n",
              "<p>11 rows × 23 columns</p>\n",
              "</div>"
            ],
            "text/plain": [
              "                 sku   national_inv     lead_time  in_transit_qty  \\\n",
              "count   6.158900e+04   61589.000000  58186.000000    61589.000000   \n",
              "unique           NaN            NaN           NaN             NaN   \n",
              "top              NaN            NaN           NaN             NaN   \n",
              "freq             NaN            NaN           NaN             NaN   \n",
              "mean    2.037188e+06     287.721882      7.559619       30.192843   \n",
              "std     6.564178e+05    4233.906931      6.498952      792.869253   \n",
              "min     1.068628e+06   -2999.000000      0.000000        0.000000   \n",
              "25%     1.498574e+06       3.000000      4.000000        0.000000   \n",
              "50%     1.898033e+06      10.000000      8.000000        0.000000   \n",
              "75%     2.314826e+06      57.000000      8.000000        0.000000   \n",
              "max     3.284895e+06  673445.000000     52.000000   170976.000000   \n",
              "\n",
              "        forecast_3_month  forecast_6_month  forecast_9_month  sales_1_month  \\\n",
              "count       6.158900e+04      6.158900e+04      6.158900e+04   61589.000000   \n",
              "unique               NaN               NaN               NaN            NaN   \n",
              "top                  NaN               NaN               NaN            NaN   \n",
              "freq                 NaN               NaN               NaN            NaN   \n",
              "mean        1.692728e+02      3.150413e+02      4.535760e+02      44.742957   \n",
              "std         5.286742e+03      9.774362e+03      1.420201e+04    1373.805831   \n",
              "min         0.000000e+00      0.000000e+00      0.000000e+00       0.000000   \n",
              "25%         0.000000e+00      0.000000e+00      0.000000e+00       0.000000   \n",
              "50%         0.000000e+00      0.000000e+00      0.000000e+00       0.000000   \n",
              "75%         1.200000e+01      2.500000e+01      3.600000e+01       6.000000   \n",
              "max         1.126656e+06      2.094336e+06      3.062016e+06  295197.000000   \n",
              "\n",
              "        sales_3_month  sales_6_month  ...  pieces_past_due  perf_6_month_avg  \\\n",
              "count    61589.000000   6.158900e+04  ...     61589.000000      61589.000000   \n",
              "unique            NaN            NaN  ...              NaN               NaN   \n",
              "top               NaN            NaN  ...              NaN               NaN   \n",
              "freq              NaN            NaN  ...              NaN               NaN   \n",
              "mean       150.732631   2.835465e+02  ...         1.605400         -6.264182   \n",
              "std       5224.959649   8.872270e+03  ...        42.309229         25.537906   \n",
              "min          0.000000   0.000000e+00  ...         0.000000        -99.000000   \n",
              "25%          0.000000   0.000000e+00  ...         0.000000          0.620000   \n",
              "50%          2.000000   4.000000e+00  ...         0.000000          0.820000   \n",
              "75%         17.000000   3.400000e+01  ...         0.000000          0.960000   \n",
              "max     934593.000000   1.799099e+06  ...      7392.000000          1.000000   \n",
              "\n",
              "       perf_12_month_avg  local_bo_qty  deck_risk  oe_constraint  ppap_risk  \\\n",
              "count       61589.000000  61589.000000      61589          61589      61589   \n",
              "unique               NaN           NaN          2              2          2   \n",
              "top                  NaN           NaN         No             No         No   \n",
              "freq                 NaN           NaN      48145          61577      53792   \n",
              "mean           -5.863664      1.205361        NaN            NaN        NaN   \n",
              "std            24.844514     29.981155        NaN            NaN        NaN   \n",
              "min           -99.000000      0.000000        NaN            NaN        NaN   \n",
              "25%             0.640000      0.000000        NaN            NaN        NaN   \n",
              "50%             0.800000      0.000000        NaN            NaN        NaN   \n",
              "75%             0.950000      0.000000        NaN            NaN        NaN   \n",
              "max             1.000000   2999.000000        NaN            NaN        NaN   \n",
              "\n",
              "       stop_auto_buy rev_stop went_on_backorder  \n",
              "count          61589    61589             61589  \n",
              "unique             2        2                 2  \n",
              "top              Yes       No                No  \n",
              "freq           59303    61569             50296  \n",
              "mean             NaN      NaN               NaN  \n",
              "std              NaN      NaN               NaN  \n",
              "min              NaN      NaN               NaN  \n",
              "25%              NaN      NaN               NaN  \n",
              "50%              NaN      NaN               NaN  \n",
              "75%              NaN      NaN               NaN  \n",
              "max              NaN      NaN               NaN  \n",
              "\n",
              "[11 rows x 23 columns]"
            ]
          },
          "execution_count": 7,
          "metadata": {},
          "output_type": "execute_result"
        }
      ],
      "source": [
        "data.describe(include='all')"
      ]
    },
    {
      "cell_type": "markdown",
      "metadata": {
        "id": "u-Pg1tF_JPPx"
      },
      "source": [
        "## Data type"
      ]
    },
    {
      "cell_type": "code",
      "execution_count": null,
      "metadata": {
        "id": "bHzqiwAuJPPx",
        "outputId": "84241754-f2f8-4854-b0f3-06a950e400bc"
      },
      "outputs": [
        {
          "data": {
            "text/plain": [
              "sku                    int64\n",
              "national_inv           int64\n",
              "lead_time            float64\n",
              "in_transit_qty         int64\n",
              "forecast_3_month       int64\n",
              "forecast_6_month       int64\n",
              "forecast_9_month       int64\n",
              "sales_1_month          int64\n",
              "sales_3_month          int64\n",
              "sales_6_month          int64\n",
              "sales_9_month          int64\n",
              "min_bank               int64\n",
              "potential_issue       object\n",
              "pieces_past_due        int64\n",
              "perf_6_month_avg     float64\n",
              "perf_12_month_avg    float64\n",
              "local_bo_qty           int64\n",
              "deck_risk             object\n",
              "oe_constraint         object\n",
              "ppap_risk             object\n",
              "stop_auto_buy         object\n",
              "rev_stop              object\n",
              "went_on_backorder     object\n",
              "dtype: object"
            ]
          },
          "execution_count": 8,
          "metadata": {},
          "output_type": "execute_result"
        }
      ],
      "source": [
        "data.dtypes"
      ]
    },
    {
      "cell_type": "markdown",
      "metadata": {
        "id": "YRxSbRFuJPPy"
      },
      "source": [
        "__Observations__\n",
        "\n",
        "* sku is `categorical` but is interpreted as `int64` \n",
        "* potential_issue, deck_risk, oe_constraint, ppap_risk, stop_auto_buy, rev_stop, and went_on_backorder are also `categorical` but is interpreted as `object`. "
      ]
    },
    {
      "cell_type": "markdown",
      "metadata": {
        "id": "RKb19qm9JPPy"
      },
      "source": [
        "# Data pre-processing"
      ]
    },
    {
      "cell_type": "markdown",
      "metadata": {
        "id": "CZuhhStXJPPy"
      },
      "source": [
        "## Convert all the attributes to appropriate type"
      ]
    },
    {
      "cell_type": "markdown",
      "metadata": {
        "id": "XnYXd_ReJPPz"
      },
      "source": [
        "Data type conversion\n",
        "\n",
        "    Using astype('category') to convert potential_issue, deck_risk, \n",
        "    oe_constraint, ppap_risk, stop_auto_buy, rev_stop, \n",
        "    and went_on_backorder attributes to categorical attributes.\n"
      ]
    },
    {
      "cell_type": "code",
      "execution_count": null,
      "metadata": {
        "id": "vIHsCyZsJPPz"
      },
      "outputs": [],
      "source": [
        "for col in ['sku', 'potential_issue', 'deck_risk', 'oe_constraint', 'ppap_risk', \n",
        "            'stop_auto_buy', 'rev_stop', 'went_on_backorder']:\n",
        "    data[col] = data[col].astype('category')"
      ]
    },
    {
      "cell_type": "markdown",
      "metadata": {
        "id": "_pm0cqOBJPP0"
      },
      "source": [
        "### Re-display data type of each variable"
      ]
    },
    {
      "cell_type": "code",
      "execution_count": null,
      "metadata": {
        "id": "jLMseBLsJPP0",
        "outputId": "1a7713c1-1ec0-4a4a-bae3-590697e2f104"
      },
      "outputs": [
        {
          "data": {
            "text/plain": [
              "sku                  category\n",
              "national_inv            int64\n",
              "lead_time             float64\n",
              "in_transit_qty          int64\n",
              "forecast_3_month        int64\n",
              "forecast_6_month        int64\n",
              "forecast_9_month        int64\n",
              "sales_1_month           int64\n",
              "sales_3_month           int64\n",
              "sales_6_month           int64\n",
              "sales_9_month           int64\n",
              "min_bank                int64\n",
              "potential_issue      category\n",
              "pieces_past_due         int64\n",
              "perf_6_month_avg      float64\n",
              "perf_12_month_avg     float64\n",
              "local_bo_qty            int64\n",
              "deck_risk            category\n",
              "oe_constraint        category\n",
              "ppap_risk            category\n",
              "stop_auto_buy        category\n",
              "rev_stop             category\n",
              "went_on_backorder    category\n",
              "dtype: object"
            ]
          },
          "execution_count": 11,
          "metadata": {},
          "output_type": "execute_result"
        }
      ],
      "source": [
        "data.dtypes"
      ]
    },
    {
      "cell_type": "markdown",
      "metadata": {
        "id": "tDa993hxJPP0"
      },
      "source": [
        "### Statistic summary \n",
        "    Using describe function"
      ]
    },
    {
      "cell_type": "code",
      "execution_count": null,
      "metadata": {
        "scrolled": true,
        "id": "eCm0FrKJJPP0",
        "outputId": "0bdfce72-abcb-4100-fb48-17db3bc0c0b6"
      },
      "outputs": [
        {
          "data": {
            "text/html": [
              "<div>\n",
              "<style scoped>\n",
              "    .dataframe tbody tr th:only-of-type {\n",
              "        vertical-align: middle;\n",
              "    }\n",
              "\n",
              "    .dataframe tbody tr th {\n",
              "        vertical-align: top;\n",
              "    }\n",
              "\n",
              "    .dataframe thead th {\n",
              "        text-align: right;\n",
              "    }\n",
              "</style>\n",
              "<table border=\"1\" class=\"dataframe\">\n",
              "  <thead>\n",
              "    <tr style=\"text-align: right;\">\n",
              "      <th></th>\n",
              "      <th>sku</th>\n",
              "      <th>national_inv</th>\n",
              "      <th>lead_time</th>\n",
              "      <th>in_transit_qty</th>\n",
              "      <th>forecast_3_month</th>\n",
              "      <th>forecast_6_month</th>\n",
              "      <th>forecast_9_month</th>\n",
              "      <th>sales_1_month</th>\n",
              "      <th>sales_3_month</th>\n",
              "      <th>sales_6_month</th>\n",
              "      <th>...</th>\n",
              "      <th>pieces_past_due</th>\n",
              "      <th>perf_6_month_avg</th>\n",
              "      <th>perf_12_month_avg</th>\n",
              "      <th>local_bo_qty</th>\n",
              "      <th>deck_risk</th>\n",
              "      <th>oe_constraint</th>\n",
              "      <th>ppap_risk</th>\n",
              "      <th>stop_auto_buy</th>\n",
              "      <th>rev_stop</th>\n",
              "      <th>went_on_backorder</th>\n",
              "    </tr>\n",
              "  </thead>\n",
              "  <tbody>\n",
              "    <tr>\n",
              "      <th>count</th>\n",
              "      <td>61589.0</td>\n",
              "      <td>61589.000000</td>\n",
              "      <td>58186.000000</td>\n",
              "      <td>61589.000000</td>\n",
              "      <td>6.158900e+04</td>\n",
              "      <td>6.158900e+04</td>\n",
              "      <td>6.158900e+04</td>\n",
              "      <td>61589.000000</td>\n",
              "      <td>61589.000000</td>\n",
              "      <td>6.158900e+04</td>\n",
              "      <td>...</td>\n",
              "      <td>61589.000000</td>\n",
              "      <td>61589.000000</td>\n",
              "      <td>61589.000000</td>\n",
              "      <td>61589.000000</td>\n",
              "      <td>61589</td>\n",
              "      <td>61589</td>\n",
              "      <td>61589</td>\n",
              "      <td>61589</td>\n",
              "      <td>61589</td>\n",
              "      <td>61589</td>\n",
              "    </tr>\n",
              "    <tr>\n",
              "      <th>unique</th>\n",
              "      <td>61589.0</td>\n",
              "      <td>NaN</td>\n",
              "      <td>NaN</td>\n",
              "      <td>NaN</td>\n",
              "      <td>NaN</td>\n",
              "      <td>NaN</td>\n",
              "      <td>NaN</td>\n",
              "      <td>NaN</td>\n",
              "      <td>NaN</td>\n",
              "      <td>NaN</td>\n",
              "      <td>...</td>\n",
              "      <td>NaN</td>\n",
              "      <td>NaN</td>\n",
              "      <td>NaN</td>\n",
              "      <td>NaN</td>\n",
              "      <td>2</td>\n",
              "      <td>2</td>\n",
              "      <td>2</td>\n",
              "      <td>2</td>\n",
              "      <td>2</td>\n",
              "      <td>2</td>\n",
              "    </tr>\n",
              "    <tr>\n",
              "      <th>top</th>\n",
              "      <td>3284895.0</td>\n",
              "      <td>NaN</td>\n",
              "      <td>NaN</td>\n",
              "      <td>NaN</td>\n",
              "      <td>NaN</td>\n",
              "      <td>NaN</td>\n",
              "      <td>NaN</td>\n",
              "      <td>NaN</td>\n",
              "      <td>NaN</td>\n",
              "      <td>NaN</td>\n",
              "      <td>...</td>\n",
              "      <td>NaN</td>\n",
              "      <td>NaN</td>\n",
              "      <td>NaN</td>\n",
              "      <td>NaN</td>\n",
              "      <td>No</td>\n",
              "      <td>No</td>\n",
              "      <td>No</td>\n",
              "      <td>Yes</td>\n",
              "      <td>No</td>\n",
              "      <td>No</td>\n",
              "    </tr>\n",
              "    <tr>\n",
              "      <th>freq</th>\n",
              "      <td>1.0</td>\n",
              "      <td>NaN</td>\n",
              "      <td>NaN</td>\n",
              "      <td>NaN</td>\n",
              "      <td>NaN</td>\n",
              "      <td>NaN</td>\n",
              "      <td>NaN</td>\n",
              "      <td>NaN</td>\n",
              "      <td>NaN</td>\n",
              "      <td>NaN</td>\n",
              "      <td>...</td>\n",
              "      <td>NaN</td>\n",
              "      <td>NaN</td>\n",
              "      <td>NaN</td>\n",
              "      <td>NaN</td>\n",
              "      <td>48145</td>\n",
              "      <td>61577</td>\n",
              "      <td>53792</td>\n",
              "      <td>59303</td>\n",
              "      <td>61569</td>\n",
              "      <td>50296</td>\n",
              "    </tr>\n",
              "    <tr>\n",
              "      <th>mean</th>\n",
              "      <td>NaN</td>\n",
              "      <td>287.721882</td>\n",
              "      <td>7.559619</td>\n",
              "      <td>30.192843</td>\n",
              "      <td>1.692728e+02</td>\n",
              "      <td>3.150413e+02</td>\n",
              "      <td>4.535760e+02</td>\n",
              "      <td>44.742957</td>\n",
              "      <td>150.732631</td>\n",
              "      <td>2.835465e+02</td>\n",
              "      <td>...</td>\n",
              "      <td>1.605400</td>\n",
              "      <td>-6.264182</td>\n",
              "      <td>-5.863664</td>\n",
              "      <td>1.205361</td>\n",
              "      <td>NaN</td>\n",
              "      <td>NaN</td>\n",
              "      <td>NaN</td>\n",
              "      <td>NaN</td>\n",
              "      <td>NaN</td>\n",
              "      <td>NaN</td>\n",
              "    </tr>\n",
              "    <tr>\n",
              "      <th>std</th>\n",
              "      <td>NaN</td>\n",
              "      <td>4233.906931</td>\n",
              "      <td>6.498952</td>\n",
              "      <td>792.869253</td>\n",
              "      <td>5.286742e+03</td>\n",
              "      <td>9.774362e+03</td>\n",
              "      <td>1.420201e+04</td>\n",
              "      <td>1373.805831</td>\n",
              "      <td>5224.959649</td>\n",
              "      <td>8.872270e+03</td>\n",
              "      <td>...</td>\n",
              "      <td>42.309229</td>\n",
              "      <td>25.537906</td>\n",
              "      <td>24.844514</td>\n",
              "      <td>29.981155</td>\n",
              "      <td>NaN</td>\n",
              "      <td>NaN</td>\n",
              "      <td>NaN</td>\n",
              "      <td>NaN</td>\n",
              "      <td>NaN</td>\n",
              "      <td>NaN</td>\n",
              "    </tr>\n",
              "    <tr>\n",
              "      <th>min</th>\n",
              "      <td>NaN</td>\n",
              "      <td>-2999.000000</td>\n",
              "      <td>0.000000</td>\n",
              "      <td>0.000000</td>\n",
              "      <td>0.000000e+00</td>\n",
              "      <td>0.000000e+00</td>\n",
              "      <td>0.000000e+00</td>\n",
              "      <td>0.000000</td>\n",
              "      <td>0.000000</td>\n",
              "      <td>0.000000e+00</td>\n",
              "      <td>...</td>\n",
              "      <td>0.000000</td>\n",
              "      <td>-99.000000</td>\n",
              "      <td>-99.000000</td>\n",
              "      <td>0.000000</td>\n",
              "      <td>NaN</td>\n",
              "      <td>NaN</td>\n",
              "      <td>NaN</td>\n",
              "      <td>NaN</td>\n",
              "      <td>NaN</td>\n",
              "      <td>NaN</td>\n",
              "    </tr>\n",
              "    <tr>\n",
              "      <th>25%</th>\n",
              "      <td>NaN</td>\n",
              "      <td>3.000000</td>\n",
              "      <td>4.000000</td>\n",
              "      <td>0.000000</td>\n",
              "      <td>0.000000e+00</td>\n",
              "      <td>0.000000e+00</td>\n",
              "      <td>0.000000e+00</td>\n",
              "      <td>0.000000</td>\n",
              "      <td>0.000000</td>\n",
              "      <td>0.000000e+00</td>\n",
              "      <td>...</td>\n",
              "      <td>0.000000</td>\n",
              "      <td>0.620000</td>\n",
              "      <td>0.640000</td>\n",
              "      <td>0.000000</td>\n",
              "      <td>NaN</td>\n",
              "      <td>NaN</td>\n",
              "      <td>NaN</td>\n",
              "      <td>NaN</td>\n",
              "      <td>NaN</td>\n",
              "      <td>NaN</td>\n",
              "    </tr>\n",
              "    <tr>\n",
              "      <th>50%</th>\n",
              "      <td>NaN</td>\n",
              "      <td>10.000000</td>\n",
              "      <td>8.000000</td>\n",
              "      <td>0.000000</td>\n",
              "      <td>0.000000e+00</td>\n",
              "      <td>0.000000e+00</td>\n",
              "      <td>0.000000e+00</td>\n",
              "      <td>0.000000</td>\n",
              "      <td>2.000000</td>\n",
              "      <td>4.000000e+00</td>\n",
              "      <td>...</td>\n",
              "      <td>0.000000</td>\n",
              "      <td>0.820000</td>\n",
              "      <td>0.800000</td>\n",
              "      <td>0.000000</td>\n",
              "      <td>NaN</td>\n",
              "      <td>NaN</td>\n",
              "      <td>NaN</td>\n",
              "      <td>NaN</td>\n",
              "      <td>NaN</td>\n",
              "      <td>NaN</td>\n",
              "    </tr>\n",
              "    <tr>\n",
              "      <th>75%</th>\n",
              "      <td>NaN</td>\n",
              "      <td>57.000000</td>\n",
              "      <td>8.000000</td>\n",
              "      <td>0.000000</td>\n",
              "      <td>1.200000e+01</td>\n",
              "      <td>2.500000e+01</td>\n",
              "      <td>3.600000e+01</td>\n",
              "      <td>6.000000</td>\n",
              "      <td>17.000000</td>\n",
              "      <td>3.400000e+01</td>\n",
              "      <td>...</td>\n",
              "      <td>0.000000</td>\n",
              "      <td>0.960000</td>\n",
              "      <td>0.950000</td>\n",
              "      <td>0.000000</td>\n",
              "      <td>NaN</td>\n",
              "      <td>NaN</td>\n",
              "      <td>NaN</td>\n",
              "      <td>NaN</td>\n",
              "      <td>NaN</td>\n",
              "      <td>NaN</td>\n",
              "    </tr>\n",
              "    <tr>\n",
              "      <th>max</th>\n",
              "      <td>NaN</td>\n",
              "      <td>673445.000000</td>\n",
              "      <td>52.000000</td>\n",
              "      <td>170976.000000</td>\n",
              "      <td>1.126656e+06</td>\n",
              "      <td>2.094336e+06</td>\n",
              "      <td>3.062016e+06</td>\n",
              "      <td>295197.000000</td>\n",
              "      <td>934593.000000</td>\n",
              "      <td>1.799099e+06</td>\n",
              "      <td>...</td>\n",
              "      <td>7392.000000</td>\n",
              "      <td>1.000000</td>\n",
              "      <td>1.000000</td>\n",
              "      <td>2999.000000</td>\n",
              "      <td>NaN</td>\n",
              "      <td>NaN</td>\n",
              "      <td>NaN</td>\n",
              "      <td>NaN</td>\n",
              "      <td>NaN</td>\n",
              "      <td>NaN</td>\n",
              "    </tr>\n",
              "  </tbody>\n",
              "</table>\n",
              "<p>11 rows × 23 columns</p>\n",
              "</div>"
            ],
            "text/plain": [
              "              sku   national_inv     lead_time  in_transit_qty  \\\n",
              "count     61589.0   61589.000000  58186.000000    61589.000000   \n",
              "unique    61589.0            NaN           NaN             NaN   \n",
              "top     3284895.0            NaN           NaN             NaN   \n",
              "freq          1.0            NaN           NaN             NaN   \n",
              "mean          NaN     287.721882      7.559619       30.192843   \n",
              "std           NaN    4233.906931      6.498952      792.869253   \n",
              "min           NaN   -2999.000000      0.000000        0.000000   \n",
              "25%           NaN       3.000000      4.000000        0.000000   \n",
              "50%           NaN      10.000000      8.000000        0.000000   \n",
              "75%           NaN      57.000000      8.000000        0.000000   \n",
              "max           NaN  673445.000000     52.000000   170976.000000   \n",
              "\n",
              "        forecast_3_month  forecast_6_month  forecast_9_month  sales_1_month  \\\n",
              "count       6.158900e+04      6.158900e+04      6.158900e+04   61589.000000   \n",
              "unique               NaN               NaN               NaN            NaN   \n",
              "top                  NaN               NaN               NaN            NaN   \n",
              "freq                 NaN               NaN               NaN            NaN   \n",
              "mean        1.692728e+02      3.150413e+02      4.535760e+02      44.742957   \n",
              "std         5.286742e+03      9.774362e+03      1.420201e+04    1373.805831   \n",
              "min         0.000000e+00      0.000000e+00      0.000000e+00       0.000000   \n",
              "25%         0.000000e+00      0.000000e+00      0.000000e+00       0.000000   \n",
              "50%         0.000000e+00      0.000000e+00      0.000000e+00       0.000000   \n",
              "75%         1.200000e+01      2.500000e+01      3.600000e+01       6.000000   \n",
              "max         1.126656e+06      2.094336e+06      3.062016e+06  295197.000000   \n",
              "\n",
              "        sales_3_month  sales_6_month  ...  pieces_past_due  perf_6_month_avg  \\\n",
              "count    61589.000000   6.158900e+04  ...     61589.000000      61589.000000   \n",
              "unique            NaN            NaN  ...              NaN               NaN   \n",
              "top               NaN            NaN  ...              NaN               NaN   \n",
              "freq              NaN            NaN  ...              NaN               NaN   \n",
              "mean       150.732631   2.835465e+02  ...         1.605400         -6.264182   \n",
              "std       5224.959649   8.872270e+03  ...        42.309229         25.537906   \n",
              "min          0.000000   0.000000e+00  ...         0.000000        -99.000000   \n",
              "25%          0.000000   0.000000e+00  ...         0.000000          0.620000   \n",
              "50%          2.000000   4.000000e+00  ...         0.000000          0.820000   \n",
              "75%         17.000000   3.400000e+01  ...         0.000000          0.960000   \n",
              "max     934593.000000   1.799099e+06  ...      7392.000000          1.000000   \n",
              "\n",
              "       perf_12_month_avg  local_bo_qty  deck_risk  oe_constraint  ppap_risk  \\\n",
              "count       61589.000000  61589.000000      61589          61589      61589   \n",
              "unique               NaN           NaN          2              2          2   \n",
              "top                  NaN           NaN         No             No         No   \n",
              "freq                 NaN           NaN      48145          61577      53792   \n",
              "mean           -5.863664      1.205361        NaN            NaN        NaN   \n",
              "std            24.844514     29.981155        NaN            NaN        NaN   \n",
              "min           -99.000000      0.000000        NaN            NaN        NaN   \n",
              "25%             0.640000      0.000000        NaN            NaN        NaN   \n",
              "50%             0.800000      0.000000        NaN            NaN        NaN   \n",
              "75%             0.950000      0.000000        NaN            NaN        NaN   \n",
              "max             1.000000   2999.000000        NaN            NaN        NaN   \n",
              "\n",
              "       stop_auto_buy rev_stop went_on_backorder  \n",
              "count          61589    61589             61589  \n",
              "unique             2        2                 2  \n",
              "top              Yes       No                No  \n",
              "freq           59303    61569             50296  \n",
              "mean             NaN      NaN               NaN  \n",
              "std              NaN      NaN               NaN  \n",
              "min              NaN      NaN               NaN  \n",
              "25%              NaN      NaN               NaN  \n",
              "50%              NaN      NaN               NaN  \n",
              "75%              NaN      NaN               NaN  \n",
              "max              NaN      NaN               NaN  \n",
              "\n",
              "[11 rows x 23 columns]"
            ]
          },
          "execution_count": 12,
          "metadata": {},
          "output_type": "execute_result"
        }
      ],
      "source": [
        "data.describe(include='all')"
      ]
    },
    {
      "cell_type": "markdown",
      "metadata": {
        "id": "E1KWcm9GJPP1"
      },
      "source": [
        "## Delete sku attribute"
      ]
    },
    {
      "cell_type": "code",
      "execution_count": null,
      "metadata": {
        "id": "dBiD4OvyJPP1",
        "outputId": "bb1cc3a3-0b7d-4eee-d6ed-3ddb5b0d9ccc"
      },
      "outputs": [
        {
          "data": {
            "text/plain": [
              "61589"
            ]
          },
          "execution_count": 13,
          "metadata": {},
          "output_type": "execute_result"
        }
      ],
      "source": [
        "np.size(np.unique(data.sku, return_counts=True)[0])"
      ]
    },
    {
      "cell_type": "code",
      "execution_count": null,
      "metadata": {
        "id": "Zdl5CTiMJPP1"
      },
      "outputs": [],
      "source": [
        "data.drop('sku', axis=1, inplace=True)"
      ]
    },
    {
      "cell_type": "markdown",
      "metadata": {
        "id": "PPsWL3v0JPP1"
      },
      "source": [
        "## Missing Data\n",
        "\n",
        "    Missing value analysis and dropping the records with missing values"
      ]
    },
    {
      "cell_type": "code",
      "execution_count": null,
      "metadata": {
        "id": "pl3-Ep5XJPP2",
        "outputId": "bf84fe9a-4f34-479b-d834-e2c9a485a7a3"
      },
      "outputs": [
        {
          "data": {
            "text/plain": [
              "national_inv            0\n",
              "lead_time            3403\n",
              "in_transit_qty          0\n",
              "forecast_3_month        0\n",
              "forecast_6_month        0\n",
              "forecast_9_month        0\n",
              "sales_1_month           0\n",
              "sales_3_month           0\n",
              "sales_6_month           0\n",
              "sales_9_month           0\n",
              "min_bank                0\n",
              "potential_issue         0\n",
              "pieces_past_due         0\n",
              "perf_6_month_avg        0\n",
              "perf_12_month_avg       0\n",
              "local_bo_qty            0\n",
              "deck_risk               0\n",
              "oe_constraint           0\n",
              "ppap_risk               0\n",
              "stop_auto_buy           0\n",
              "rev_stop                0\n",
              "went_on_backorder       0\n",
              "dtype: int64"
            ]
          },
          "execution_count": 15,
          "metadata": {},
          "output_type": "execute_result"
        }
      ],
      "source": [
        "data.isnull().sum()"
      ]
    },
    {
      "cell_type": "markdown",
      "metadata": {
        "id": "B5kacGrqJPP2"
      },
      "source": [
        "Observing the number of records before and after missing value records removal"
      ]
    },
    {
      "cell_type": "code",
      "execution_count": null,
      "metadata": {
        "id": "J9UdhTbGJPP2",
        "outputId": "f616154b-c88f-4aa8-f096-a6cd4b1c05ed"
      },
      "outputs": [
        {
          "name": "stdout",
          "output_type": "stream",
          "text": [
            "(61589, 22)\n"
          ]
        }
      ],
      "source": [
        "print (data.shape)"
      ]
    },
    {
      "cell_type": "markdown",
      "metadata": {
        "id": "ZrEIYCPNJPP3"
      },
      "source": [
        "Since the number of missing values is about 5% and as we have around 61K records. For initial analysis we ignore all these records"
      ]
    },
    {
      "cell_type": "code",
      "execution_count": null,
      "metadata": {
        "id": "DOtQwXlmJPP3"
      },
      "outputs": [],
      "source": [
        "data = data.dropna(axis=0)"
      ]
    },
    {
      "cell_type": "code",
      "execution_count": null,
      "metadata": {
        "id": "aT4Zv9fVJPP3",
        "outputId": "64fcc115-67f9-4c5b-ae47-5d48e98b8588"
      },
      "outputs": [
        {
          "name": "stdout",
          "output_type": "stream",
          "text": [
            "national_inv         0\n",
            "lead_time            0\n",
            "in_transit_qty       0\n",
            "forecast_3_month     0\n",
            "forecast_6_month     0\n",
            "forecast_9_month     0\n",
            "sales_1_month        0\n",
            "sales_3_month        0\n",
            "sales_6_month        0\n",
            "sales_9_month        0\n",
            "min_bank             0\n",
            "potential_issue      0\n",
            "pieces_past_due      0\n",
            "perf_6_month_avg     0\n",
            "perf_12_month_avg    0\n",
            "local_bo_qty         0\n",
            "deck_risk            0\n",
            "oe_constraint        0\n",
            "ppap_risk            0\n",
            "stop_auto_buy        0\n",
            "rev_stop             0\n",
            "went_on_backorder    0\n",
            "dtype: int64\n",
            "(58186, 22)\n"
          ]
        }
      ],
      "source": [
        "print(data.isnull().sum())\n",
        "print(data.shape)"
      ]
    },
    {
      "cell_type": "markdown",
      "metadata": {
        "id": "bn9h3O3gJPP3"
      },
      "source": [
        "## Encoding Categorical to Numeric\n",
        "\n",
        "`pandas.get_dummies` To convert convert categorical variable into dummy/indicator variables"
      ]
    },
    {
      "cell_type": "markdown",
      "metadata": {
        "id": "173u8qTfJPP4"
      },
      "source": [
        "__Creating dummy variables__\n",
        "\n",
        "If we have k levels in a category, then we create k-1 dummy variables as the last one would be redundant. So we use the parameter drop_first in pd.get_dummies function that drops the first level in each of the category."
      ]
    },
    {
      "cell_type": "code",
      "execution_count": null,
      "metadata": {
        "id": "My61hc57JPP4"
      },
      "outputs": [],
      "source": [
        "cat_attr_names = data.select_dtypes(include=['category']).columns"
      ]
    },
    {
      "cell_type": "code",
      "execution_count": null,
      "metadata": {
        "id": "A4RUpFxdJPP4"
      },
      "outputs": [],
      "source": [
        "data = pd.get_dummies(columns=cat_attr_names, data=data, \n",
        "                      prefix=cat_attr_names, prefix_sep=\"_\", drop_first=True)"
      ]
    },
    {
      "cell_type": "code",
      "execution_count": null,
      "metadata": {
        "id": "Ie_ioDLJJPP4",
        "outputId": "4baafb2c-2129-4c49-ab71-fdecd2167f56"
      },
      "outputs": [
        {
          "name": "stdout",
          "output_type": "stream",
          "text": [
            "Index(['national_inv', 'lead_time', 'in_transit_qty', 'forecast_3_month',\n",
            "       'forecast_6_month', 'forecast_9_month', 'sales_1_month',\n",
            "       'sales_3_month', 'sales_6_month', 'sales_9_month', 'min_bank',\n",
            "       'pieces_past_due', 'perf_6_month_avg', 'perf_12_month_avg',\n",
            "       'local_bo_qty', 'potential_issue_Yes', 'deck_risk_Yes',\n",
            "       'oe_constraint_Yes', 'ppap_risk_Yes', 'stop_auto_buy_Yes',\n",
            "       'rev_stop_Yes', 'went_on_backorder_Yes'],\n",
            "      dtype='object') (58186, 22)\n"
          ]
        }
      ],
      "source": [
        "print (data.columns, data.shape)"
      ]
    },
    {
      "cell_type": "markdown",
      "metadata": {
        "id": "OlXr5UBhJPP5"
      },
      "source": [
        "## Train and test split"
      ]
    },
    {
      "cell_type": "markdown",
      "metadata": {
        "id": "F_bDSe1BJPP5"
      },
      "source": [
        "### Target attribute distribution "
      ]
    },
    {
      "cell_type": "code",
      "execution_count": null,
      "metadata": {
        "id": "ws_9L_5SJPP5",
        "outputId": "3087a7c4-a770-4698-ca48-0c0a7691682a"
      },
      "outputs": [
        {
          "data": {
            "text/plain": [
              "0    47217\n",
              "1    10969\n",
              "Name: went_on_backorder_Yes, dtype: int64"
            ]
          },
          "execution_count": 23,
          "metadata": {},
          "output_type": "execute_result"
        }
      ],
      "source": [
        "data['went_on_backorder_Yes'].value_counts()"
      ]
    },
    {
      "cell_type": "code",
      "execution_count": null,
      "metadata": {
        "id": "1Qqdt4t6JPP5",
        "outputId": "e75ee1d3-9e68-4ed3-fc68-e6503de7bc2f"
      },
      "outputs": [
        {
          "data": {
            "text/plain": [
              "0    81.148386\n",
              "1    18.851614\n",
              "Name: went_on_backorder_Yes, dtype: float64"
            ]
          },
          "execution_count": 24,
          "metadata": {},
          "output_type": "execute_result"
        }
      ],
      "source": [
        "data['went_on_backorder_Yes'].value_counts(normalize=True)*100"
      ]
    },
    {
      "cell_type": "markdown",
      "metadata": {
        "id": "56Nm7MEnJPP5"
      },
      "source": [
        "### Split the data into train and test\n",
        "\n",
        "`sklearn.model_selection.train_test_split`\n",
        "\n",
        "    Split arrays or matrices into random train and test subsets"
      ]
    },
    {
      "cell_type": "code",
      "execution_count": null,
      "metadata": {
        "id": "tnjnfNFRJPP6"
      },
      "outputs": [],
      "source": [
        "X = data.drop('went_on_backorder_Yes', axis=1)\n",
        "y = data['went_on_backorder_Yes']\n",
        "\n",
        "X_train, X_test, y_train, y_test = train_test_split(X, y, test_size=0.30, random_state=123) "
      ]
    },
    {
      "cell_type": "markdown",
      "metadata": {
        "id": "qE8xyt-aJPP6"
      },
      "source": [
        "### Target attribute distribution after the split"
      ]
    },
    {
      "cell_type": "code",
      "execution_count": null,
      "metadata": {
        "id": "S53g9kRCJPP6",
        "outputId": "f95bb65a-648e-43ff-eb98-86667529925a"
      },
      "outputs": [
        {
          "name": "stdout",
          "output_type": "stream",
          "text": [
            "0    81.185858\n",
            "1    18.814142\n",
            "Name: went_on_backorder_Yes, dtype: float64\n",
            "0    81.060953\n",
            "1    18.939047\n",
            "Name: went_on_backorder_Yes, dtype: float64\n"
          ]
        }
      ],
      "source": [
        "print(pd.value_counts(y_train, normalize=True) * 100)\n",
        "\n",
        "print(pd.value_counts(y_test, normalize=True) * 100)"
      ]
    },
    {
      "cell_type": "markdown",
      "metadata": {
        "id": "H-vMVz7nJPP6"
      },
      "source": [
        "# Model building"
      ]
    },
    {
      "cell_type": "markdown",
      "metadata": {
        "id": "4RH_hw9PJPP6"
      },
      "source": [
        "## Decision Tree Model"
      ]
    },
    {
      "cell_type": "markdown",
      "metadata": {
        "id": "fgcRhil6JPP7"
      },
      "source": [
        "### Instantiate Model"
      ]
    },
    {
      "cell_type": "code",
      "execution_count": null,
      "metadata": {
        "id": "XAv9laEvJPP7"
      },
      "outputs": [],
      "source": [
        "dtclf = DecisionTreeClassifier()"
      ]
    },
    {
      "cell_type": "markdown",
      "metadata": {
        "id": "cq8a_kevJPP7"
      },
      "source": [
        "### Train Model"
      ]
    },
    {
      "cell_type": "code",
      "execution_count": null,
      "metadata": {
        "id": "ZppHIBr8JPP7",
        "outputId": "a1060339-1135-470d-e816-c003a0b721f3"
      },
      "outputs": [
        {
          "data": {
            "text/plain": [
              "DecisionTreeClassifier()"
            ]
          },
          "execution_count": 29,
          "metadata": {},
          "output_type": "execute_result"
        }
      ],
      "source": [
        "dtclf.fit(X_train, y_train)"
      ]
    },
    {
      "cell_type": "markdown",
      "metadata": {
        "id": "Qd7pVRttJPP7"
      },
      "source": [
        "### List important features"
      ]
    },
    {
      "cell_type": "code",
      "execution_count": null,
      "metadata": {
        "id": "v6Sfmm_oJPP8",
        "outputId": "4c4bc5cf-93b9-4812-845e-b63af8949ac3"
      },
      "outputs": [
        {
          "data": {
            "text/plain": [
              "array([0.31291385, 0.03169478, 0.0311396 , 0.0912365 , 0.02871705,\n",
              "       0.1107907 , 0.07051742, 0.03497093, 0.05016168, 0.04610257,\n",
              "       0.03033654, 0.00721194, 0.05746401, 0.06297542, 0.01063403,\n",
              "       0.00039911, 0.01149081, 0.        , 0.00912832, 0.00211474,\n",
              "       0.        ])"
            ]
          },
          "execution_count": 36,
          "metadata": {},
          "output_type": "execute_result"
        }
      ],
      "source": [
        "importances = dtclf.feature_importances_\n",
        "importances"
      ]
    },
    {
      "cell_type": "code",
      "execution_count": null,
      "metadata": {
        "id": "RGfwVuEOJPP8",
        "outputId": "5015d2ca-0c2f-4745-c41c-1e3220c9f995"
      },
      "outputs": [
        {
          "data": {
            "text/html": [
              "<div>\n",
              "<style scoped>\n",
              "    .dataframe tbody tr th:only-of-type {\n",
              "        vertical-align: middle;\n",
              "    }\n",
              "\n",
              "    .dataframe tbody tr th {\n",
              "        vertical-align: top;\n",
              "    }\n",
              "\n",
              "    .dataframe thead th {\n",
              "        text-align: right;\n",
              "    }\n",
              "</style>\n",
              "<table border=\"1\" class=\"dataframe\">\n",
              "  <thead>\n",
              "    <tr style=\"text-align: right;\">\n",
              "      <th></th>\n",
              "      <th>0</th>\n",
              "      <th>1</th>\n",
              "      <th>2</th>\n",
              "      <th>3</th>\n",
              "      <th>4</th>\n",
              "      <th>5</th>\n",
              "      <th>6</th>\n",
              "      <th>7</th>\n",
              "      <th>8</th>\n",
              "      <th>9</th>\n",
              "      <th>...</th>\n",
              "      <th>11</th>\n",
              "      <th>12</th>\n",
              "      <th>13</th>\n",
              "      <th>14</th>\n",
              "      <th>15</th>\n",
              "      <th>16</th>\n",
              "      <th>17</th>\n",
              "      <th>18</th>\n",
              "      <th>19</th>\n",
              "      <th>20</th>\n",
              "    </tr>\n",
              "  </thead>\n",
              "  <tbody>\n",
              "    <tr>\n",
              "      <th>0</th>\n",
              "      <td>national_inv</td>\n",
              "      <td>forecast_9_month</td>\n",
              "      <td>forecast_3_month</td>\n",
              "      <td>sales_1_month</td>\n",
              "      <td>perf_12_month_avg</td>\n",
              "      <td>perf_6_month_avg</td>\n",
              "      <td>sales_6_month</td>\n",
              "      <td>sales_9_month</td>\n",
              "      <td>sales_3_month</td>\n",
              "      <td>lead_time</td>\n",
              "      <td>...</td>\n",
              "      <td>min_bank</td>\n",
              "      <td>forecast_6_month</td>\n",
              "      <td>deck_risk_Yes</td>\n",
              "      <td>local_bo_qty</td>\n",
              "      <td>ppap_risk_Yes</td>\n",
              "      <td>pieces_past_due</td>\n",
              "      <td>stop_auto_buy_Yes</td>\n",
              "      <td>potential_issue_Yes</td>\n",
              "      <td>oe_constraint_Yes</td>\n",
              "      <td>rev_stop_Yes</td>\n",
              "    </tr>\n",
              "    <tr>\n",
              "      <th>1</th>\n",
              "      <td>0.312914</td>\n",
              "      <td>0.110791</td>\n",
              "      <td>0.0912365</td>\n",
              "      <td>0.0705174</td>\n",
              "      <td>0.0629754</td>\n",
              "      <td>0.057464</td>\n",
              "      <td>0.0501617</td>\n",
              "      <td>0.0461026</td>\n",
              "      <td>0.0349709</td>\n",
              "      <td>0.0316948</td>\n",
              "      <td>...</td>\n",
              "      <td>0.0303365</td>\n",
              "      <td>0.028717</td>\n",
              "      <td>0.0114908</td>\n",
              "      <td>0.010634</td>\n",
              "      <td>0.00912832</td>\n",
              "      <td>0.00721194</td>\n",
              "      <td>0.00211474</td>\n",
              "      <td>0.000399111</td>\n",
              "      <td>0</td>\n",
              "      <td>0</td>\n",
              "    </tr>\n",
              "  </tbody>\n",
              "</table>\n",
              "<p>2 rows × 21 columns</p>\n",
              "</div>"
            ],
            "text/plain": [
              "             0                 1                 2              3   \\\n",
              "0  national_inv  forecast_9_month  forecast_3_month  sales_1_month   \n",
              "1      0.312914          0.110791         0.0912365      0.0705174   \n",
              "\n",
              "                  4                 5              6              7   \\\n",
              "0  perf_12_month_avg  perf_6_month_avg  sales_6_month  sales_9_month   \n",
              "1          0.0629754          0.057464      0.0501617      0.0461026   \n",
              "\n",
              "              8          9   ...         11                12             13  \\\n",
              "0  sales_3_month  lead_time  ...   min_bank  forecast_6_month  deck_risk_Yes   \n",
              "1      0.0349709  0.0316948  ...  0.0303365          0.028717      0.0114908   \n",
              "\n",
              "             14             15               16                 17  \\\n",
              "0  local_bo_qty  ppap_risk_Yes  pieces_past_due  stop_auto_buy_Yes   \n",
              "1      0.010634     0.00912832       0.00721194         0.00211474   \n",
              "\n",
              "                    18                 19            20  \n",
              "0  potential_issue_Yes  oe_constraint_Yes  rev_stop_Yes  \n",
              "1          0.000399111                  0             0  \n",
              "\n",
              "[2 rows x 21 columns]"
            ]
          },
          "execution_count": 37,
          "metadata": {},
          "output_type": "execute_result"
        }
      ],
      "source": [
        "indices = np.argsort(importances)[::-1]\n",
        "ind_attr_names = X_train.columns\n",
        "pd.DataFrame([ind_attr_names[indices], np.sort(importances)[::-1]])"
      ]
    },
    {
      "cell_type": "code",
      "execution_count": null,
      "metadata": {
        "id": "9Pd7xkLSJPP9"
      },
      "outputs": [],
      "source": [
        "train_pred = dtclf.predict(X_train)\n",
        "test_pred = dtclf.predict(X_test)"
      ]
    },
    {
      "cell_type": "code",
      "source": [
        "def evaluate_model(act, pred):\n",
        "    from sklearn.metrics import confusion_matrix, accuracy_score,\\\n",
        "     recall_score, precision_score\n",
        "    \n",
        "    print(\"Confusion Matrix \\n\", confusion_matrix(act, pred))\n",
        "    print(\"Accurcay : \", accuracy_score(act, pred))\n",
        "    print(\"Recall   : \", recall_score(act, pred))\n",
        "    print(\"Precision: \", precision_score(act, pred))   "
      ],
      "metadata": {
        "id": "4s2xMLMDwf3-"
      },
      "execution_count": null,
      "outputs": []
    },
    {
      "cell_type": "markdown",
      "metadata": {
        "id": "JMIF-pzOJPP9"
      },
      "source": [
        "### Evaluate"
      ]
    },
    {
      "cell_type": "code",
      "execution_count": null,
      "metadata": {
        "id": "JXiSY3uFJPP9",
        "outputId": "e18ac350-b59d-4376-ffe8-194d5056bdfa"
      },
      "outputs": [
        {
          "name": "stdout",
          "output_type": "stream",
          "text": [
            "--Train--\n",
            "Confusion Matrix \n",
            " [[33047    20]\n",
            " [   69  7594]]\n",
            "Accurcay :  0.9978148784679597\n",
            "Recall   :  0.9909956935925878\n",
            "Precision:  0.9973732597846073\n",
            "--Test--\n",
            "Confusion Matrix \n",
            " [[13223   927]\n",
            " [  770  2536]]\n",
            "Accurcay :  0.9027841429880843\n",
            "Recall   :  0.7670901391409558\n",
            "Precision:  0.7323130233901242\n"
          ]
        }
      ],
      "source": [
        "print(\"--Train--\")\n",
        "evaluate_model(y_train, train_pred)\n",
        "print(\"--Test--\")\n",
        "evaluate_model(y_test, test_pred)"
      ]
    },
    {
      "cell_type": "markdown",
      "metadata": {
        "id": "ekVHgC-qJPP-"
      },
      "source": [
        "### Observation:\n",
        "    Recall is pretty low\n",
        "\n",
        "__Reason__:\n",
        "\n",
        "    Class imbalance i.e. 81% of the records are not back order records "
      ]
    },
    {
      "cell_type": "markdown",
      "metadata": {
        "id": "pVSoui6NJPP-"
      },
      "source": [
        "## Up-sampling \n",
        "\n",
        "    Using SMOTE (Synthetic Minority Over-sampling Technique)"
      ]
    },
    {
      "cell_type": "markdown",
      "metadata": {
        "id": "P_BOUMAEJPP-"
      },
      "source": [
        "### Instantiate SMOTE"
      ]
    },
    {
      "cell_type": "code",
      "execution_count": null,
      "metadata": {
        "id": "URe8-15cJPP-"
      },
      "outputs": [],
      "source": [
        "from imblearn.over_sampling import SMOTE\n",
        "smote = SMOTE(random_state=123)"
      ]
    },
    {
      "cell_type": "markdown",
      "metadata": {
        "id": "jTawz8lLJPP-"
      },
      "source": [
        "### Fit Sample"
      ]
    },
    {
      "cell_type": "code",
      "execution_count": null,
      "metadata": {
        "id": "ayn02qQUJPP_"
      },
      "outputs": [],
      "source": [
        "X_train_sm, y_train_sm = smote.fit_sample(X_train, y_train)"
      ]
    },
    {
      "cell_type": "code",
      "execution_count": null,
      "metadata": {
        "id": "bUPhlGcBJPP_",
        "outputId": "614ea988-5854-4b14-ff53-ead849ff0889"
      },
      "outputs": [
        {
          "data": {
            "text/plain": [
              "(66134, 21)"
            ]
          },
          "execution_count": 43,
          "metadata": {},
          "output_type": "execute_result"
        }
      ],
      "source": [
        "X_train_sm.shape"
      ]
    },
    {
      "cell_type": "code",
      "execution_count": null,
      "metadata": {
        "id": "48w8Fe7nJPP_",
        "outputId": "80b0a024-beef-47df-d55b-3f274e61acb5"
      },
      "outputs": [
        {
          "data": {
            "text/plain": [
              "(66134,)"
            ]
          },
          "execution_count": 44,
          "metadata": {},
          "output_type": "execute_result"
        }
      ],
      "source": [
        "y_train_sm.shape"
      ]
    },
    {
      "cell_type": "code",
      "execution_count": null,
      "metadata": {
        "id": "oyfRL2kNJPQA",
        "outputId": "d1673b08-6972-4fef-f5d1-9050b6d32974"
      },
      "outputs": [
        {
          "name": "stdout",
          "output_type": "stream",
          "text": [
            "1    50.0\n",
            "0    50.0\n",
            "Name: went_on_backorder_Yes, dtype: float64\n"
          ]
        }
      ],
      "source": [
        "print(pd.value_counts(y_train_sm, normalize=True) * 100)"
      ]
    },
    {
      "cell_type": "markdown",
      "metadata": {
        "id": "ZxewW0cGJPQA"
      },
      "source": [
        "## Decision Tree with up-sample data"
      ]
    },
    {
      "cell_type": "markdown",
      "metadata": {
        "id": "7elG4yhgJPQA"
      },
      "source": [
        "### Instantiate Model"
      ]
    },
    {
      "cell_type": "code",
      "execution_count": null,
      "metadata": {
        "id": "mC-eqcu4JPQA"
      },
      "outputs": [],
      "source": [
        "dtclf2 = DecisionTreeClassifier()"
      ]
    },
    {
      "cell_type": "markdown",
      "metadata": {
        "id": "EE7I6HqbJPQA"
      },
      "source": [
        "### Train the model"
      ]
    },
    {
      "cell_type": "code",
      "execution_count": null,
      "metadata": {
        "id": "EhJd2-lLJPQB"
      },
      "outputs": [],
      "source": [
        "dtclf2 = dtclf2.fit(X_train_sm, y_train_sm)"
      ]
    },
    {
      "cell_type": "markdown",
      "metadata": {
        "id": "De2xqGKyJPQB"
      },
      "source": [
        "### List important features"
      ]
    },
    {
      "cell_type": "code",
      "execution_count": null,
      "metadata": {
        "id": "95NjBNKBJPQB",
        "outputId": "dbf68fb9-db76-441d-d72d-e1888ed147d8"
      },
      "outputs": [
        {
          "data": {
            "text/plain": [
              "array([0.28368106, 0.        , 0.        , 0.71631894, 0.        ,\n",
              "       0.        , 0.        , 0.        , 0.        , 0.        ,\n",
              "       0.        , 0.        , 0.        , 0.        , 0.        ,\n",
              "       0.        , 0.        , 0.        , 0.        , 0.        ,\n",
              "       0.        ])"
            ]
          },
          "execution_count": 47,
          "metadata": {},
          "output_type": "execute_result"
        }
      ],
      "source": [
        "importances = dtclf2.feature_importances_\n",
        "importances"
      ]
    },
    {
      "cell_type": "code",
      "execution_count": null,
      "metadata": {
        "id": "9KCg3d9zJPQB",
        "outputId": "3e04363d-2eac-4fec-ee30-56cb1d719d4a"
      },
      "outputs": [
        {
          "data": {
            "text/html": [
              "<div>\n",
              "<style scoped>\n",
              "    .dataframe tbody tr th:only-of-type {\n",
              "        vertical-align: middle;\n",
              "    }\n",
              "\n",
              "    .dataframe tbody tr th {\n",
              "        vertical-align: top;\n",
              "    }\n",
              "\n",
              "    .dataframe thead th {\n",
              "        text-align: right;\n",
              "    }\n",
              "</style>\n",
              "<table border=\"1\" class=\"dataframe\">\n",
              "  <thead>\n",
              "    <tr style=\"text-align: right;\">\n",
              "      <th></th>\n",
              "      <th>0</th>\n",
              "      <th>1</th>\n",
              "      <th>2</th>\n",
              "      <th>3</th>\n",
              "      <th>4</th>\n",
              "      <th>5</th>\n",
              "      <th>6</th>\n",
              "      <th>7</th>\n",
              "      <th>8</th>\n",
              "      <th>9</th>\n",
              "      <th>...</th>\n",
              "      <th>11</th>\n",
              "      <th>12</th>\n",
              "      <th>13</th>\n",
              "      <th>14</th>\n",
              "      <th>15</th>\n",
              "      <th>16</th>\n",
              "      <th>17</th>\n",
              "      <th>18</th>\n",
              "      <th>19</th>\n",
              "      <th>20</th>\n",
              "    </tr>\n",
              "  </thead>\n",
              "  <tbody>\n",
              "    <tr>\n",
              "      <th>0</th>\n",
              "      <td>forecast_3_month</td>\n",
              "      <td>national_inv</td>\n",
              "      <td>sales_9_month</td>\n",
              "      <td>lead_time</td>\n",
              "      <td>in_transit_qty</td>\n",
              "      <td>forecast_6_month</td>\n",
              "      <td>forecast_9_month</td>\n",
              "      <td>sales_1_month</td>\n",
              "      <td>sales_3_month</td>\n",
              "      <td>sales_6_month</td>\n",
              "      <td>...</td>\n",
              "      <td>stop_auto_buy_Yes</td>\n",
              "      <td>pieces_past_due</td>\n",
              "      <td>perf_6_month_avg</td>\n",
              "      <td>perf_12_month_avg</td>\n",
              "      <td>local_bo_qty</td>\n",
              "      <td>potential_issue_Yes</td>\n",
              "      <td>deck_risk_Yes</td>\n",
              "      <td>oe_constraint_Yes</td>\n",
              "      <td>ppap_risk_Yes</td>\n",
              "      <td>min_bank</td>\n",
              "    </tr>\n",
              "    <tr>\n",
              "      <th>1</th>\n",
              "      <td>0.716319</td>\n",
              "      <td>0.283681</td>\n",
              "      <td>0</td>\n",
              "      <td>0</td>\n",
              "      <td>0</td>\n",
              "      <td>0</td>\n",
              "      <td>0</td>\n",
              "      <td>0</td>\n",
              "      <td>0</td>\n",
              "      <td>0</td>\n",
              "      <td>...</td>\n",
              "      <td>0</td>\n",
              "      <td>0</td>\n",
              "      <td>0</td>\n",
              "      <td>0</td>\n",
              "      <td>0</td>\n",
              "      <td>0</td>\n",
              "      <td>0</td>\n",
              "      <td>0</td>\n",
              "      <td>0</td>\n",
              "      <td>0</td>\n",
              "    </tr>\n",
              "  </tbody>\n",
              "</table>\n",
              "<p>2 rows × 21 columns</p>\n",
              "</div>"
            ],
            "text/plain": [
              "                 0             1              2          3               4   \\\n",
              "0  forecast_3_month  national_inv  sales_9_month  lead_time  in_transit_qty   \n",
              "1          0.716319      0.283681              0          0               0   \n",
              "\n",
              "                 5                 6              7              8   \\\n",
              "0  forecast_6_month  forecast_9_month  sales_1_month  sales_3_month   \n",
              "1                 0                 0              0              0   \n",
              "\n",
              "              9   ...                 11               12                13  \\\n",
              "0  sales_6_month  ...  stop_auto_buy_Yes  pieces_past_due  perf_6_month_avg   \n",
              "1              0  ...                  0                0                 0   \n",
              "\n",
              "                  14            15                   16             17  \\\n",
              "0  perf_12_month_avg  local_bo_qty  potential_issue_Yes  deck_risk_Yes   \n",
              "1                  0             0                    0              0   \n",
              "\n",
              "                  18             19        20  \n",
              "0  oe_constraint_Yes  ppap_risk_Yes  min_bank  \n",
              "1                  0              0         0  \n",
              "\n",
              "[2 rows x 21 columns]"
            ]
          },
          "execution_count": 48,
          "metadata": {},
          "output_type": "execute_result"
        }
      ],
      "source": [
        "indices = np.argsort(importances)[::-1]\n",
        "pd.DataFrame([ind_attr_names[indices], np.sort(importances)[::-1]])"
      ]
    },
    {
      "cell_type": "markdown",
      "metadata": {
        "id": "BMLx9BrJJPQB"
      },
      "source": [
        "### Predict"
      ]
    },
    {
      "cell_type": "code",
      "execution_count": null,
      "metadata": {
        "id": "w3lKMwlCJPQB"
      },
      "outputs": [],
      "source": [
        "train_pred=dtclf2.predict(X_train_sm)\n",
        "test_pred=dtclf2.predict(X_test)"
      ]
    },
    {
      "cell_type": "markdown",
      "metadata": {
        "id": "VjtnzH5XJPQC"
      },
      "source": [
        "### Evaluate"
      ]
    },
    {
      "cell_type": "code",
      "execution_count": null,
      "metadata": {
        "id": "nXLQLvxuJPQC",
        "outputId": "3dad2561-f7c7-4fd7-a699-80d4ab785404"
      },
      "outputs": [
        {
          "name": "stdout",
          "output_type": "stream",
          "text": [
            "--Train--\n",
            "Confusion Matrix \n",
            " [[28025  5042]\n",
            " [ 6412 26655]]\n",
            "Accurcay :  0.8268061813893005\n",
            "Recall   :  0.8060906644086249\n",
            "Precision:  0.8409313184213018\n",
            "--Test--\n",
            "Confusion Matrix \n",
            " [[11949  2201]\n",
            " [  656  2650]]\n",
            "Accurcay :  0.8363313473877176\n",
            "Recall   :  0.8015728977616455\n",
            "Precision:  0.5462791177076891\n"
          ]
        }
      ],
      "source": [
        "print(\"--Train--\")\n",
        "evaluate_model(y_train_sm, train_pred)\n",
        "print(\"--Test--\")\n",
        "evaluate_model(y_test, test_pred)"
      ]
    }
  ],
  "metadata": {
    "kernelspec": {
      "display_name": "Python 3 (ipykernel)",
      "language": "python",
      "name": "python3"
    },
    "language_info": {
      "codemirror_mode": {
        "name": "ipython",
        "version": 3
      },
      "file_extension": ".py",
      "mimetype": "text/x-python",
      "name": "python",
      "nbconvert_exporter": "python",
      "pygments_lexer": "ipython3",
      "version": "3.9.7"
    },
    "toc": {
      "base_numbering": 1,
      "nav_menu": {},
      "number_sections": true,
      "sideBar": true,
      "skip_h1_title": false,
      "title_cell": "Table of Contents",
      "title_sidebar": "Contents",
      "toc_cell": true,
      "toc_position": {
        "height": "calc(100% - 180px)",
        "left": "10px",
        "top": "150px",
        "width": "165px"
      },
      "toc_section_display": true,
      "toc_window_display": false
    },
    "colab": {
      "provenance": [],
      "include_colab_link": true
    }
  },
  "nbformat": 4,
  "nbformat_minor": 0
}